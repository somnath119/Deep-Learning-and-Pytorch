{
 "cells": [
  {
   "cell_type": "code",
   "execution_count": 1,
   "metadata": {},
   "outputs": [],
   "source": [
    "import torch\n",
    "import numpy as np\n",
    "import matplotlib.pyplot as plt "
   ]
  },
  {
   "cell_type": "markdown",
   "metadata": {},
   "source": [
    "## Initialise tensors"
   ]
  },
  {
   "cell_type": "code",
   "execution_count": 2,
   "metadata": {
    "tags": []
   },
   "outputs": [
    {
     "output_type": "stream",
     "name": "stdout",
     "text": "tensor([[1., 1.],\n        [1., 1.],\n        [1., 1.]])\ntensor([[0., 0.],\n        [0., 0.],\n        [0., 0.]])\ntensor([[0.8429, 0.3166],\n        [0.0967, 0.3074],\n        [0.2054, 0.5596]])\n"
    }
   ],
   "source": [
    "x = torch.ones(3,2)\n",
    "print(x)\n",
    "x = torch.zeros(3,2)\n",
    "print(x)\n",
    "x = torch.rand(3,2)\n",
    "print(x)"
   ]
  },
  {
   "cell_type": "code",
   "execution_count": 3,
   "metadata": {
    "tags": []
   },
   "outputs": [
    {
     "output_type": "stream",
     "name": "stdout",
     "text": "tensor([[2.9389e-39, 9.6429e-39],\n        [9.1837e-39, 1.0653e-38],\n        [9.2755e-39, 9.3673e-39]])\ntensor([[0., 0.],\n        [0., 0.],\n        [0., 0.]])\n"
    }
   ],
   "source": [
    "x = torch.empty(3,2)\n",
    "print(x)\n",
    "y = torch.zeros_like(x)\n",
    "print(y)"
   ]
  },
  {
   "cell_type": "code",
   "execution_count": 4,
   "metadata": {
    "tags": []
   },
   "outputs": [
    {
     "output_type": "stream",
     "name": "stdout",
     "text": "tensor([0.0000, 0.2500, 0.5000, 0.7500, 1.0000])\n"
    }
   ],
   "source": [
    "x = torch.linspace(0, 1, steps=5)\n",
    "print(x)"
   ]
  },
  {
   "cell_type": "code",
   "execution_count": 5,
   "metadata": {
    "tags": []
   },
   "outputs": [
    {
     "output_type": "stream",
     "name": "stdout",
     "text": "tensor([[1, 2],\n        [3, 4],\n        [5, 6]])\n"
    }
   ],
   "source": [
    "x = torch.tensor([[1,2],[3,4],[5,6]])\n",
    "print(x)"
   ]
  },
  {
   "cell_type": "markdown",
   "metadata": {},
   "source": [
    "## Slicing tensors"
   ]
  },
  {
   "cell_type": "code",
   "execution_count": 6,
   "metadata": {
    "tags": []
   },
   "outputs": [
    {
     "output_type": "stream",
     "name": "stdout",
     "text": "torch.Size([3, 2])\ntensor([2, 4, 6])\ntensor([1, 2])\n"
    }
   ],
   "source": [
    "print(x.size())\n",
    "print(x[:, 1])\n",
    "print(x[0, :])"
   ]
  },
  {
   "cell_type": "code",
   "execution_count": 7,
   "metadata": {
    "tags": []
   },
   "outputs": [
    {
     "output_type": "stream",
     "name": "stdout",
     "text": "tensor(4)\n4\n"
    }
   ],
   "source": [
    "y = x[1,1]\n",
    "print(y)\n",
    "print(y.item())"
   ]
  },
  {
   "cell_type": "markdown",
   "metadata": {},
   "source": [
    "## Reshaping tensors"
   ]
  },
  {
   "cell_type": "code",
   "execution_count": 8,
   "metadata": {
    "tags": []
   },
   "outputs": [
    {
     "output_type": "stream",
     "name": "stdout",
     "text": "tensor([[1, 2],\n        [3, 4],\n        [5, 6]])\ntensor([[1, 2, 3],\n        [4, 5, 6]])\n"
    }
   ],
   "source": [
    "print(x)\n",
    "y= x.view(2,3)\n",
    "print(y)"
   ]
  },
  {
   "cell_type": "code",
   "execution_count": 9,
   "metadata": {
    "tags": []
   },
   "outputs": [
    {
     "output_type": "stream",
     "name": "stdout",
     "text": "tensor([[1, 2],\n        [3, 4],\n        [5, 6]])\n"
    }
   ],
   "source": [
    "y = x.view(3,-1)\n",
    "print(y)"
   ]
  },
  {
   "cell_type": "markdown",
   "metadata": {},
   "source": [
    "## Simple Tensor Operations"
   ]
  },
  {
   "cell_type": "code",
   "execution_count": 10,
   "metadata": {
    "tags": []
   },
   "outputs": [
    {
     "output_type": "stream",
     "name": "stdout",
     "text": "tensor([[2., 2.],\n        [2., 2.],\n        [2., 2.]])\ntensor([[0., 0.],\n        [0., 0.],\n        [0., 0.]])\ntensor([[1., 1.],\n        [1., 1.],\n        [1., 1.]])\n"
    }
   ],
   "source": [
    "x = torch.ones([3, 2])\n",
    "y = torch.ones([3, 2])\n",
    "z = x + y\n",
    "print(z)\n",
    "z = x - y\n",
    "print(z)\n",
    "z = x * y\n",
    "print(z)"
   ]
  },
  {
   "cell_type": "code",
   "execution_count": 11,
   "metadata": {
    "tags": []
   },
   "outputs": [
    {
     "output_type": "stream",
     "name": "stdout",
     "text": "tensor([[2., 2.],\n        [2., 2.],\n        [2., 2.]])\ntensor([[1., 1.],\n        [1., 1.],\n        [1., 1.]])\n"
    }
   ],
   "source": [
    "z = y.add(x)\n",
    "print(z)\n",
    "print(y)"
   ]
  },
  {
   "cell_type": "code",
   "execution_count": 12,
   "metadata": {
    "tags": []
   },
   "outputs": [
    {
     "output_type": "stream",
     "name": "stdout",
     "text": "tensor([[2., 2.],\n        [2., 2.],\n        [2., 2.]])\ntensor([[2., 2.],\n        [2., 2.],\n        [2., 2.]])\ntensor([[2., 2.],\n        [2., 2.],\n        [2., 2.]])\n"
    }
   ],
   "source": [
    "print(z)\n",
    "z = y.add_(x)\n",
    "print(z)\n",
    "print(y)"
   ]
  },
  {
   "cell_type": "markdown",
   "metadata": {},
   "source": [
    "## Numpy <> PyTorch"
   ]
  },
  {
   "cell_type": "code",
   "execution_count": 13,
   "metadata": {
    "tags": []
   },
   "outputs": [
    {
     "output_type": "stream",
     "name": "stdout",
     "text": "<class 'torch.Tensor'> <class 'numpy.ndarray'>\n[[1. 1.]\n [1. 1.]\n [1. 1.]]\n"
    }
   ],
   "source": [
    "x_np = x.numpy()\n",
    "print(type(x), type(x_np))\n",
    "print(x_np)"
   ]
  },
  {
   "cell_type": "code",
   "execution_count": 14,
   "metadata": {
    "tags": []
   },
   "outputs": [
    {
     "output_type": "stream",
     "name": "stdout",
     "text": "[-1.10152707  0.42843832 -1.40846892  0.794719    1.13123999]\n<class 'numpy.ndarray'> <class 'torch.Tensor'>\ntensor([-1.1015,  0.4284, -1.4085,  0.7947,  1.1312], dtype=torch.float64)\n"
    }
   ],
   "source": [
    "a = np.random.randn(5)\n",
    "print(a)\n",
    "a_pt = torch.from_numpy(a)\n",
    "print(type(a), type(a_pt))\n",
    "print(a_pt)"
   ]
  },
  {
   "cell_type": "code",
   "execution_count": 15,
   "metadata": {
    "tags": []
   },
   "outputs": [
    {
     "output_type": "stream",
     "name": "stdout",
     "text": "[-0.10152707  1.42843832 -0.40846892  1.794719    2.13123999]\ntensor([-0.1015,  1.4284, -0.4085,  1.7947,  2.1312], dtype=torch.float64)\n"
    }
   ],
   "source": [
    "np.add(a, 1, out=a)\n",
    "print(a)\n",
    "print(a_pt)"
   ]
  },
  {
   "cell_type": "code",
   "execution_count": 21,
   "metadata": {
    "tags": []
   },
   "outputs": [
    {
     "output_type": "stream",
     "name": "stdout",
     "text": "Wall time: 84 ms\n"
    }
   ],
   "source": [
    "%%time\n",
    "for i in range(100):\n",
    "  a = np.random.randn(100,100)\n",
    "  b = np.random.randn(100,100)\n",
    "  c = np.matmul(a, b)"
   ]
  },
  {
   "cell_type": "code",
   "execution_count": 22,
   "metadata": {
    "tags": []
   },
   "outputs": [
    {
     "output_type": "stream",
     "name": "stdout",
     "text": "Wall time: 34 ms\n"
    }
   ],
   "source": [
    "%%time\n",
    "for i in range(100):\n",
    "  a = torch.randn([100, 100])\n",
    "  b = torch.randn([100, 100])\n",
    "  c = torch.matmul(a, b)"
   ]
  },
  {
   "cell_type": "code",
   "execution_count": 23,
   "metadata": {
    "tags": []
   },
   "outputs": [
    {
     "output_type": "stream",
     "name": "stdout",
     "text": "Wall time: 2min\n"
    }
   ],
   "source": [
    "%%time\n",
    "for i in range(10):\n",
    "  a = np.random.randn(10000,10000)\n",
    "  b = np.random.randn(10000,10000)\n",
    "  c = a + b"
   ]
  },
  {
   "cell_type": "code",
   "execution_count": 25,
   "metadata": {
    "tags": []
   },
   "outputs": [
    {
     "output_type": "stream",
     "name": "stdout",
     "text": "Wall time: 18.9 s\n"
    }
   ],
   "source": [
    "%%time\n",
    "for i in range(10):\n",
    "  a = torch.randn([10000, 10000])\n",
    "  b = torch.randn([10000, 10000])\n",
    "  c = a + b"
   ]
  },
  {
   "cell_type": "markdown",
   "metadata": {},
   "source": [
    "## CUDA support"
   ]
  },
  {
   "cell_type": "code",
   "execution_count": 26,
   "metadata": {
    "tags": []
   },
   "outputs": [
    {
     "output_type": "stream",
     "name": "stdout",
     "text": "1\n"
    }
   ],
   "source": [
    "print(torch.cuda.device_count())"
   ]
  },
  {
   "cell_type": "code",
   "execution_count": 27,
   "metadata": {
    "tags": []
   },
   "outputs": [
    {
     "output_type": "stream",
     "name": "stdout",
     "text": "<torch.cuda.device object at 0x000002B37E36C100>\nGeForce GTX 1050\n"
    }
   ],
   "source": [
    "print(torch.cuda.device(0))\n",
    "print(torch.cuda.get_device_name(0))"
   ]
  },
  {
   "cell_type": "code",
   "execution_count": 28,
   "metadata": {},
   "outputs": [],
   "source": [
    "cuda0 = torch.device('cuda:0')"
   ]
  },
  {
   "cell_type": "code",
   "execution_count": 29,
   "metadata": {
    "tags": []
   },
   "outputs": [
    {
     "output_type": "stream",
     "name": "stdout",
     "text": "tensor([[2., 2.],\n        [2., 2.],\n        [2., 2.]], device='cuda:0')\n"
    }
   ],
   "source": [
    "a = torch.ones(3, 2, device=cuda0)\n",
    "b = torch.ones(3, 2, device=cuda0)\n",
    "c = a + b\n",
    "print(c)"
   ]
  },
  {
   "cell_type": "code",
   "execution_count": 30,
   "metadata": {
    "tags": []
   },
   "outputs": [
    {
     "output_type": "stream",
     "name": "stdout",
     "text": "tensor([[1., 1.],\n        [1., 1.],\n        [1., 1.]], device='cuda:0')\n"
    }
   ],
   "source": [
    "print(a)"
   ]
  },
  {
   "cell_type": "code",
   "execution_count": 32,
   "metadata": {
    "tags": []
   },
   "outputs": [
    {
     "output_type": "stream",
     "name": "stdout",
     "text": "Wall time: 1min 8s\n"
    }
   ],
   "source": [
    "%%time\n",
    "## computing in cpu with numpy\n",
    "for i in range(10):\n",
    "  a = np.random.randn(10000,10000)\n",
    "  b = np.random.randn(10000,10000)\n",
    "  np.add(b, a)"
   ]
  },
  {
   "cell_type": "code",
   "execution_count": 33,
   "metadata": {
    "tags": []
   },
   "outputs": [
    {
     "output_type": "stream",
     "name": "stdout",
     "text": "Wall time: 17.9 s\n"
    }
   ],
   "source": [
    "%%time\n",
    "## computing in CPU with torch\n",
    "for i in range(10):\n",
    "  a_cpu = torch.randn([10000, 10000])\n",
    "  b_cpu = torch.randn([10000, 10000])\n",
    "  b_cpu.add_(a_cpu)"
   ]
  },
  {
   "cell_type": "code",
   "execution_count": 42,
   "metadata": {
    "tags": []
   },
   "outputs": [
    {
     "output_type": "stream",
     "name": "stdout",
     "text": "Wall time: 1.01 ms\n"
    }
   ],
   "source": [
    "%%time\n",
    "## computing in GPU with torch\n",
    "for i in range(10):\n",
    "  a = torch.randn([10000, 10000], device=cuda0)\n",
    "  b = torch.randn([10000, 10000], device=cuda0)\n",
    "  b.add_(a)"
   ]
  },
  {
   "cell_type": "code",
   "execution_count": 35,
   "metadata": {
    "tags": []
   },
   "outputs": [
    {
     "output_type": "stream",
     "name": "stdout",
     "text": "Wall time: 2min 9s\n"
    }
   ],
   "source": [
    "%%time\n",
    "## computing matrix multiplication in CPU with torch\n",
    "for i in range(10):\n",
    "  a_cpu = torch.randn([10000, 10000])\n",
    "  b_cpu = torch.randn([10000, 10000])\n",
    "  torch.matmul(a_cpu, b_cpu)"
   ]
  },
  {
   "cell_type": "code",
   "execution_count": 43,
   "metadata": {
    "tags": []
   },
   "outputs": [
    {
     "output_type": "stream",
     "name": "stdout",
     "text": "Wall time: 2.99 ms\n"
    }
   ],
   "source": [
    "%%time\n",
    "## computing matrix multiplication in GPU with torch\n",
    "for i in range(10):\n",
    "  a = torch.randn([10000, 10000], device=cuda0)\n",
    "  b = torch.randn([10000, 10000], device=cuda0)\n",
    "  torch.matmul(a, b)"
   ]
  },
  {
   "cell_type": "markdown",
   "metadata": {},
   "source": [
    "## Autodiff"
   ]
  },
  {
   "cell_type": "code",
   "execution_count": 44,
   "metadata": {
    "tags": []
   },
   "outputs": [
    {
     "output_type": "stream",
     "name": "stdout",
     "text": "tensor([[1., 1.],\n        [1., 1.],\n        [1., 1.]], requires_grad=True)\n"
    }
   ],
   "source": [
    "x = torch.ones([3, 2], requires_grad=True)\n",
    "print(x)"
   ]
  },
  {
   "cell_type": "code",
   "execution_count": 45,
   "metadata": {
    "tags": []
   },
   "outputs": [
    {
     "output_type": "stream",
     "name": "stdout",
     "text": "tensor([[6., 6.],\n        [6., 6.],\n        [6., 6.]], grad_fn=<AddBackward0>)\n"
    }
   ],
   "source": [
    "y = x + 5\n",
    "print(y)"
   ]
  },
  {
   "cell_type": "code",
   "execution_count": 46,
   "metadata": {
    "tags": []
   },
   "outputs": [
    {
     "output_type": "stream",
     "name": "stdout",
     "text": "tensor([[37., 37.],\n        [37., 37.],\n        [37., 37.]], grad_fn=<AddBackward0>)\n"
    }
   ],
   "source": [
    "z = y*y + 1\n",
    "print(z)"
   ]
  },
  {
   "cell_type": "code",
   "execution_count": 47,
   "metadata": {
    "tags": []
   },
   "outputs": [
    {
     "output_type": "stream",
     "name": "stdout",
     "text": "tensor(222., grad_fn=<SumBackward0>)\n"
    }
   ],
   "source": [
    "t = torch.sum(z)\n",
    "print(t)"
   ]
  },
  {
   "cell_type": "code",
   "execution_count": 48,
   "metadata": {
    "tags": []
   },
   "outputs": [
    {
     "output_type": "stream",
     "name": "stdout",
     "text": "tensor([[12., 12.],\n        [12., 12.],\n        [12., 12.]])\n"
    }
   ],
   "source": [
    "t.backward()\n",
    "print(x.grad)"
   ]
  },
  {
   "cell_type": "markdown",
   "metadata": {},
   "source": [
    "$t = \\sum_i z_i, z_i = y_i^2 + 1, y_i = x_i + 5$\n",
    "\n",
    "$\\frac{\\partial t}{\\partial x_i} = \\frac{\\partial z_i}{\\partial x_i} = \\frac{\\partial z_i}{\\partial y_i} \\frac{\\partial y_i}{\\partial x_i} = 2y_i \\times 1$\n",
    "\n",
    "\n",
    "\n",
    "At x = 1, y = 6, $\\frac{\\partial t}{\\partial x_i} = 12$"
   ]
  },
  {
   "cell_type": "code",
   "execution_count": 49,
   "metadata": {
    "tags": []
   },
   "outputs": [
    {
     "output_type": "stream",
     "name": "stdout",
     "text": "tensor([[0.9975, 0.9975],\n        [0.9975, 0.9975],\n        [0.9975, 0.9975]], grad_fn=<MulBackward0>)\ntensor([[0.0025, 0.0025],\n        [0.0025, 0.0025],\n        [0.0025, 0.0025]])\n"
    }
   ],
   "source": [
    "x = torch.ones([3, 2], requires_grad=True)\n",
    "y = x + 5\n",
    "r = 1/(1 + torch.exp(-y))\n",
    "print(r)\n",
    "s = torch.sum(r)\n",
    "s.backward()\n",
    "print(x.grad)"
   ]
  },
  {
   "cell_type": "code",
   "execution_count": 50,
   "metadata": {
    "tags": []
   },
   "outputs": [
    {
     "output_type": "stream",
     "name": "stdout",
     "text": "tensor([[0.0025, 0.0025],\n        [0.0025, 0.0025],\n        [0.0025, 0.0025]])\n"
    }
   ],
   "source": [
    "x = torch.ones([3, 2], requires_grad=True)\n",
    "y = x + 5\n",
    "r = 1/(1 + torch.exp(-y))\n",
    "a = torch.ones([3, 2])\n",
    "r.backward(a)\n",
    "print(x.grad)"
   ]
  },
  {
   "cell_type": "code",
   "execution_count": 52,
   "metadata": {
    "tags": []
   },
   "outputs": [
    {
     "output_type": "stream",
     "name": "stdout",
     "text": "tensor([[2., 2.],\n        [2., 2.]])\n"
    }
   ],
   "source": [
    "x = torch.ones([2,2], requires_grad= True)\n",
    "y = 2*x\n",
    "r = torch.sum(y)\n",
    "r.backward()\n",
    "print(x.grad)"
   ]
  },
  {
   "cell_type": "markdown",
   "metadata": {},
   "source": [
    "$\\frac{\\partial{s}}{\\partial{x}} = \\frac{\\partial{s}}{\\partial{r}} \\cdot \\frac{\\partial{r}}{\\partial{x}}$\n",
    "\n",
    "For the above code $a$ represents $\\frac{\\partial{s}}{\\partial{r}}$ and then $x.grad$ gives directly $\\frac{\\partial{s}}{\\partial{x}}$\n"
   ]
  },
  {
   "cell_type": "markdown",
   "metadata": {},
   "source": [
    "## Autodiff example that looks like what we have been doing"
   ]
  },
  {
   "cell_type": "code",
   "execution_count": 53,
   "metadata": {},
   "outputs": [],
   "source": [
    "x = torch.randn([20, 1], requires_grad=True)\n",
    "y = 3*x - 2"
   ]
  },
  {
   "cell_type": "code",
   "execution_count": 54,
   "metadata": {},
   "outputs": [],
   "source": [
    "w = torch.tensor([1.], requires_grad=True)\n",
    "b = torch.tensor([1.], requires_grad=True)\n",
    "\n",
    "y_hat = w*x + b\n",
    "\n",
    "loss = torch.sum((y_hat - y)**2)"
   ]
  },
  {
   "cell_type": "code",
   "execution_count": 55,
   "metadata": {
    "tags": []
   },
   "outputs": [
    {
     "output_type": "stream",
     "name": "stdout",
     "text": "tensor(232.4801, grad_fn=<SumBackward0>)\n"
    }
   ],
   "source": [
    "print(loss)"
   ]
  },
  {
   "cell_type": "code",
   "execution_count": 56,
   "metadata": {},
   "outputs": [],
   "source": [
    "loss.backward()"
   ]
  },
  {
   "cell_type": "code",
   "execution_count": 57,
   "metadata": {
    "tags": []
   },
   "outputs": [
    {
     "output_type": "stream",
     "name": "stdout",
     "text": "tensor([-50.3362]) tensor([121.4293])\n"
    }
   ],
   "source": [
    "print(w.grad, b.grad)"
   ]
  },
  {
   "cell_type": "code",
   "execution_count": null,
   "metadata": {},
   "outputs": [],
   "source": []
  }
 ],
 "metadata": {
  "language_info": {
   "codemirror_mode": {
    "name": "ipython",
    "version": 3
   },
   "file_extension": ".py",
   "mimetype": "text/x-python",
   "name": "python",
   "nbconvert_exporter": "python",
   "pygments_lexer": "ipython3",
   "version": "3.8.3-final"
  },
  "orig_nbformat": 2,
  "kernelspec": {
   "name": "python38364bitnebulatorchcondae91b37a3e6144ad589469949bbfcdabd",
   "display_name": "Python 3.8.3 64-bit ('Nebula_torch': conda)"
  }
 },
 "nbformat": 4,
 "nbformat_minor": 2
}